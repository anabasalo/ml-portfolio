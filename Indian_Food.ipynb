{
 "cells": [
  {
   "cell_type": "code",
   "execution_count": 1,
   "metadata": {},
   "outputs": [],
   "source": [
    "import pandas as pd\n",
    "import numpy as np\n",
    "import matplotlib.pyplot as plt\n",
    "import seaborn as sns"
   ]
  },
  {
   "cell_type": "code",
   "execution_count": 2,
   "metadata": {},
   "outputs": [
    {
     "data": {
      "text/html": [
       "<div>\n",
       "<style scoped>\n",
       "    .dataframe tbody tr th:only-of-type {\n",
       "        vertical-align: middle;\n",
       "    }\n",
       "\n",
       "    .dataframe tbody tr th {\n",
       "        vertical-align: top;\n",
       "    }\n",
       "\n",
       "    .dataframe thead th {\n",
       "        text-align: right;\n",
       "    }\n",
       "</style>\n",
       "<table border=\"1\" class=\"dataframe\">\n",
       "  <thead>\n",
       "    <tr style=\"text-align: right;\">\n",
       "      <th></th>\n",
       "      <th>name</th>\n",
       "      <th>ingredients</th>\n",
       "      <th>diet</th>\n",
       "      <th>prep_time</th>\n",
       "      <th>cook_time</th>\n",
       "      <th>flavor_profile</th>\n",
       "      <th>course</th>\n",
       "      <th>state</th>\n",
       "      <th>region</th>\n",
       "    </tr>\n",
       "  </thead>\n",
       "  <tbody>\n",
       "    <tr>\n",
       "      <th>0</th>\n",
       "      <td>Balu shahi</td>\n",
       "      <td>Maida flour, yogurt, oil, sugar</td>\n",
       "      <td>vegetarian</td>\n",
       "      <td>45</td>\n",
       "      <td>25</td>\n",
       "      <td>sweet</td>\n",
       "      <td>dessert</td>\n",
       "      <td>West Bengal</td>\n",
       "      <td>East</td>\n",
       "    </tr>\n",
       "    <tr>\n",
       "      <th>1</th>\n",
       "      <td>Boondi</td>\n",
       "      <td>Gram flour, ghee, sugar</td>\n",
       "      <td>vegetarian</td>\n",
       "      <td>80</td>\n",
       "      <td>30</td>\n",
       "      <td>sweet</td>\n",
       "      <td>dessert</td>\n",
       "      <td>Rajasthan</td>\n",
       "      <td>West</td>\n",
       "    </tr>\n",
       "    <tr>\n",
       "      <th>2</th>\n",
       "      <td>Gajar ka halwa</td>\n",
       "      <td>Carrots, milk, sugar, ghee, cashews, raisins</td>\n",
       "      <td>vegetarian</td>\n",
       "      <td>15</td>\n",
       "      <td>60</td>\n",
       "      <td>sweet</td>\n",
       "      <td>dessert</td>\n",
       "      <td>Punjab</td>\n",
       "      <td>North</td>\n",
       "    </tr>\n",
       "    <tr>\n",
       "      <th>3</th>\n",
       "      <td>Ghevar</td>\n",
       "      <td>Flour, ghee, kewra, milk, clarified butter, su...</td>\n",
       "      <td>vegetarian</td>\n",
       "      <td>15</td>\n",
       "      <td>30</td>\n",
       "      <td>sweet</td>\n",
       "      <td>dessert</td>\n",
       "      <td>Rajasthan</td>\n",
       "      <td>West</td>\n",
       "    </tr>\n",
       "    <tr>\n",
       "      <th>4</th>\n",
       "      <td>Gulab jamun</td>\n",
       "      <td>Milk powder, plain flour, baking powder, ghee,...</td>\n",
       "      <td>vegetarian</td>\n",
       "      <td>15</td>\n",
       "      <td>40</td>\n",
       "      <td>sweet</td>\n",
       "      <td>dessert</td>\n",
       "      <td>West Bengal</td>\n",
       "      <td>East</td>\n",
       "    </tr>\n",
       "  </tbody>\n",
       "</table>\n",
       "</div>"
      ],
      "text/plain": [
       "             name                                        ingredients  \\\n",
       "0      Balu shahi                    Maida flour, yogurt, oil, sugar   \n",
       "1          Boondi                            Gram flour, ghee, sugar   \n",
       "2  Gajar ka halwa       Carrots, milk, sugar, ghee, cashews, raisins   \n",
       "3          Ghevar  Flour, ghee, kewra, milk, clarified butter, su...   \n",
       "4     Gulab jamun  Milk powder, plain flour, baking powder, ghee,...   \n",
       "\n",
       "         diet  prep_time  cook_time flavor_profile   course        state  \\\n",
       "0  vegetarian         45         25          sweet  dessert  West Bengal   \n",
       "1  vegetarian         80         30          sweet  dessert    Rajasthan   \n",
       "2  vegetarian         15         60          sweet  dessert       Punjab   \n",
       "3  vegetarian         15         30          sweet  dessert    Rajasthan   \n",
       "4  vegetarian         15         40          sweet  dessert  West Bengal   \n",
       "\n",
       "  region  \n",
       "0   East  \n",
       "1   West  \n",
       "2  North  \n",
       "3   West  \n",
       "4   East  "
      ]
     },
     "execution_count": 2,
     "metadata": {},
     "output_type": "execute_result"
    }
   ],
   "source": [
    "df = pd.read_csv(\"indian_food.csv\")\n",
    "\n",
    "df.head()"
   ]
  },
  {
   "cell_type": "code",
   "execution_count": 3,
   "metadata": {},
   "outputs": [
    {
     "data": {
      "text/plain": [
       "(255, 9)"
      ]
     },
     "execution_count": 3,
     "metadata": {},
     "output_type": "execute_result"
    }
   ],
   "source": [
    "df.shape"
   ]
  },
  {
   "cell_type": "code",
   "execution_count": 4,
   "metadata": {},
   "outputs": [
    {
     "name": "stdout",
     "output_type": "stream",
     "text": [
      "<class 'pandas.core.frame.DataFrame'>\n",
      "RangeIndex: 255 entries, 0 to 254\n",
      "Data columns (total 9 columns):\n",
      " #   Column          Non-Null Count  Dtype \n",
      "---  ------          --------------  ----- \n",
      " 0   name            255 non-null    object\n",
      " 1   ingredients     255 non-null    object\n",
      " 2   diet            255 non-null    object\n",
      " 3   prep_time       255 non-null    int64 \n",
      " 4   cook_time       255 non-null    int64 \n",
      " 5   flavor_profile  255 non-null    object\n",
      " 6   course          255 non-null    object\n",
      " 7   state           255 non-null    object\n",
      " 8   region          254 non-null    object\n",
      "dtypes: int64(2), object(7)\n",
      "memory usage: 18.1+ KB\n"
     ]
    }
   ],
   "source": [
    "df.info()"
   ]
  },
  {
   "cell_type": "code",
   "execution_count": 5,
   "metadata": {},
   "outputs": [
    {
     "data": {
      "text/html": [
       "<div>\n",
       "<style scoped>\n",
       "    .dataframe tbody tr th:only-of-type {\n",
       "        vertical-align: middle;\n",
       "    }\n",
       "\n",
       "    .dataframe tbody tr th {\n",
       "        vertical-align: top;\n",
       "    }\n",
       "\n",
       "    .dataframe thead th {\n",
       "        text-align: right;\n",
       "    }\n",
       "</style>\n",
       "<table border=\"1\" class=\"dataframe\">\n",
       "  <thead>\n",
       "    <tr style=\"text-align: right;\">\n",
       "      <th></th>\n",
       "      <th>prep_time</th>\n",
       "      <th>cook_time</th>\n",
       "    </tr>\n",
       "  </thead>\n",
       "  <tbody>\n",
       "    <tr>\n",
       "      <th>count</th>\n",
       "      <td>255.000000</td>\n",
       "      <td>255.000000</td>\n",
       "    </tr>\n",
       "    <tr>\n",
       "      <th>mean</th>\n",
       "      <td>31.105882</td>\n",
       "      <td>34.529412</td>\n",
       "    </tr>\n",
       "    <tr>\n",
       "      <th>std</th>\n",
       "      <td>72.554409</td>\n",
       "      <td>48.265650</td>\n",
       "    </tr>\n",
       "    <tr>\n",
       "      <th>min</th>\n",
       "      <td>-1.000000</td>\n",
       "      <td>-1.000000</td>\n",
       "    </tr>\n",
       "    <tr>\n",
       "      <th>25%</th>\n",
       "      <td>10.000000</td>\n",
       "      <td>20.000000</td>\n",
       "    </tr>\n",
       "    <tr>\n",
       "      <th>50%</th>\n",
       "      <td>10.000000</td>\n",
       "      <td>30.000000</td>\n",
       "    </tr>\n",
       "    <tr>\n",
       "      <th>75%</th>\n",
       "      <td>20.000000</td>\n",
       "      <td>40.000000</td>\n",
       "    </tr>\n",
       "    <tr>\n",
       "      <th>max</th>\n",
       "      <td>500.000000</td>\n",
       "      <td>720.000000</td>\n",
       "    </tr>\n",
       "  </tbody>\n",
       "</table>\n",
       "</div>"
      ],
      "text/plain": [
       "        prep_time   cook_time\n",
       "count  255.000000  255.000000\n",
       "mean    31.105882   34.529412\n",
       "std     72.554409   48.265650\n",
       "min     -1.000000   -1.000000\n",
       "25%     10.000000   20.000000\n",
       "50%     10.000000   30.000000\n",
       "75%     20.000000   40.000000\n",
       "max    500.000000  720.000000"
      ]
     },
     "execution_count": 5,
     "metadata": {},
     "output_type": "execute_result"
    }
   ],
   "source": [
    "df.describe()"
   ]
  },
  {
   "cell_type": "code",
   "execution_count": 6,
   "metadata": {},
   "outputs": [
    {
     "data": {
      "text/plain": [
       "name              0\n",
       "ingredients       0\n",
       "diet              0\n",
       "prep_time         0\n",
       "cook_time         0\n",
       "flavor_profile    0\n",
       "course            0\n",
       "state             0\n",
       "region            1\n",
       "dtype: int64"
      ]
     },
     "execution_count": 6,
     "metadata": {},
     "output_type": "execute_result"
    }
   ],
   "source": [
    "df.isnull().sum()"
   ]
  },
  {
   "cell_type": "code",
   "execution_count": 7,
   "metadata": {},
   "outputs": [
    {
     "data": {
      "text/html": [
       "<div>\n",
       "<style scoped>\n",
       "    .dataframe tbody tr th:only-of-type {\n",
       "        vertical-align: middle;\n",
       "    }\n",
       "\n",
       "    .dataframe tbody tr th {\n",
       "        vertical-align: top;\n",
       "    }\n",
       "\n",
       "    .dataframe thead th {\n",
       "        text-align: right;\n",
       "    }\n",
       "</style>\n",
       "<table border=\"1\" class=\"dataframe\">\n",
       "  <thead>\n",
       "    <tr style=\"text-align: right;\">\n",
       "      <th></th>\n",
       "      <th>name</th>\n",
       "      <th>ingredients</th>\n",
       "      <th>diet</th>\n",
       "      <th>prep_time</th>\n",
       "      <th>cook_time</th>\n",
       "      <th>flavor_profile</th>\n",
       "      <th>course</th>\n",
       "      <th>state</th>\n",
       "      <th>region</th>\n",
       "    </tr>\n",
       "  </thead>\n",
       "  <tbody>\n",
       "    <tr>\n",
       "      <th>110</th>\n",
       "      <td>Panjeeri</td>\n",
       "      <td>Whole wheat flour, musk melon seeds, poppy see...</td>\n",
       "      <td>vegetarian</td>\n",
       "      <td>10</td>\n",
       "      <td>25</td>\n",
       "      <td>sweet</td>\n",
       "      <td>dessert</td>\n",
       "      <td>Uttar Pradesh</td>\n",
       "      <td>NaN</td>\n",
       "    </tr>\n",
       "  </tbody>\n",
       "</table>\n",
       "</div>"
      ],
      "text/plain": [
       "         name                                        ingredients        diet  \\\n",
       "110  Panjeeri  Whole wheat flour, musk melon seeds, poppy see...  vegetarian   \n",
       "\n",
       "     prep_time  cook_time flavor_profile   course          state region  \n",
       "110         10         25          sweet  dessert  Uttar Pradesh    NaN  "
      ]
     },
     "execution_count": 7,
     "metadata": {},
     "output_type": "execute_result"
    }
   ],
   "source": [
    "blank = df['region'].isna()\n",
    "df[blank]"
   ]
  },
  {
   "cell_type": "code",
   "execution_count": 8,
   "metadata": {},
   "outputs": [
    {
     "name": "stderr",
     "output_type": "stream",
     "text": [
      "/tmp/ipykernel_6746/2160558918.py:1: FutureWarning: A value is trying to be set on a copy of a DataFrame or Series through chained assignment using an inplace method.\n",
      "The behavior will change in pandas 3.0. This inplace method will never work because the intermediate object on which we are setting values always behaves as a copy.\n",
      "\n",
      "For example, when doing 'df[col].method(value, inplace=True)', try using 'df.method({col: value}, inplace=True)' or df[col] = df[col].method(value) instead, to perform the operation inplace on the original object.\n",
      "\n",
      "\n",
      "  df['region'].fillna('North', inplace = True)\n"
     ]
    }
   ],
   "source": [
    "df['region'].fillna('North', inplace = True)"
   ]
  }
 ],
 "metadata": {
  "kernelspec": {
   "display_name": "Python 3",
   "language": "python",
   "name": "python3"
  },
  "language_info": {
   "codemirror_mode": {
    "name": "ipython",
    "version": 3
   },
   "file_extension": ".py",
   "mimetype": "text/x-python",
   "name": "python",
   "nbconvert_exporter": "python",
   "pygments_lexer": "ipython3",
   "version": "3.10.12"
  }
 },
 "nbformat": 4,
 "nbformat_minor": 2
}
