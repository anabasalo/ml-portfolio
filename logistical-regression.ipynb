{
 "cells": [
  {
   "cell_type": "markdown",
   "id": "20f6f06c",
   "metadata": {},
   "source": [
    "# Logistical Regression Analysis:"
   ]
  },
  {
   "cell_type": "markdown",
   "id": "fe9414f1",
   "metadata": {},
   "source": [
    "### Covers data loading, preprocessing, exploratory data analysis, feature selection, model training, evaluation, result interpretation and prediction for a new input."
   ]
  },
  {
   "cell_type": "markdown",
   "id": "dbe68d3f",
   "metadata": {},
   "source": [
    "**Introduction**\n",
    "This project aims to predict whether it will rain tomorrow in Australia based on historical weather data using a logistic regression model."
   ]
  },
  {
   "cell_type": "markdown",
   "id": "0f99b919",
   "metadata": {},
   "source": [
    "**Dataset context**\n",
    "This dataset sourced from kaggle contains about 10 years of daily weather observations from numerous Australian weather stations.\n",
    "\n",
    "RainTomorrow is the target variable to predict. It means, did it rain the next day - Yes or No?\n",
    "This column is Yes if the rain for that day was 1mm or more.\n",
    "\n",
    "https://www.kaggle.com/datasets/jsphyg/weather-dataset-rattle-package"
   ]
  },
  {
   "cell_type": "code",
   "execution_count": null,
   "id": "d5565d75",
   "metadata": {},
   "outputs": [],
   "source": [
    "# Import necessary libraries for data analysis and modeling\n",
    "\n",
    "import pandas as pd # For data manipulation and analysis\n",
    "import numpy as np # For numerical computations\n",
    "import matplotlib.pyplot as plt # For data visualisation\n",
    "import seaborn as sns # For enhanced data visualisation\n",
    "\n",
    "from sklearn.model_selection import train_test_split  # For splitting data into training and testing sets\n",
    "from sklearn.preprocessing import StandardScaler  # For feature standardisation\n",
    "from sklearn.impute import SimpleImputer  # For handling missing values\n",
    "from sklearn.linear_model import LogisticRegression  # For logistic regression model\n",
    "from sklearn.metrics import accuracy_score, confusion_matrix, classification_report  # For model evaluation"
   ]
  },
  {
   "cell_type": "code",
   "execution_count": null,
   "metadata": {},
   "outputs": [],
   "source": [
    "df = pd.read_csv('weatherAUS 3.csv')\n",
    "\n",
    "df.head()"
   ]
  },
  {
   "cell_type": "code",
   "execution_count": null,
   "metadata": {},
   "outputs": [],
   "source": [
    "df.shape"
   ]
  },
  {
   "cell_type": "code",
   "execution_count": null,
   "metadata": {},
   "outputs": [],
   "source": [
    "df.info()"
   ]
  },
  {
   "cell_type": "code",
   "execution_count": null,
   "metadata": {},
   "outputs": [],
   "source": [
    "# Identify columns with missing values\n",
    "columns_with_missing = df.columns[df.isnull().any()]\n",
    "\n",
    "# Handle missing values\n",
    "for column in columns_with_missing:\n",
    "    # Numerical columns: impute with mean\n",
    "    if df[column].dtype == 'float64':\n",
    "        imputer = SimpleImputer(strategy='mean')\n",
    "        df[column] = imputer.fit_transform(df[[column]])\n",
    "    # Categorical columns: impute with mode\n",
    "    else:\n",
    "        imputer = SimpleImputer(strategy='most_frequent')\n",
    "        df[column] = imputer.fit_transform(df[[column]])\n",
    "\n",
    "# Verify that all missing values have been handled\n",
    "print(df.isnull().sum())"
   ]
  },
  {
   "cell_type": "code",
   "execution_count": null,
   "metadata": {},
   "outputs": [],
   "source": [
    "df['Date'].duplicated().sum()"
   ]
  },
  {
   "cell_type": "markdown",
   "metadata": {},
   "source": [
    "Exploratory Data Analysis (EDA)"
   ]
  },
  {
   "cell_type": "code",
   "execution_count": null,
   "metadata": {},
   "outputs": [],
   "source": [
    "df['RainTomorrow'].value_counts()"
   ]
  },
  {
   "cell_type": "code",
   "execution_count": null,
   "metadata": {},
   "outputs": [],
   "source": [
    "# Visualise the distribution of the target variable\n",
    "plt.figure(figsize=(8, 6))\n",
    "sns.countplot(data=df, x='RainTomorrow')\n",
    "plt.title('Distribution of Rain Tomorrow')\n",
    "plt.xlabel('Rain Tomorrow')\n",
    "plt.ylabel('Count')\n",
    "plt.show()"
   ]
  }
 ],
 "metadata": {
  "language_info": {
   "name": "python"
  }
 },
 "nbformat": 4,
 "nbformat_minor": 2
}
