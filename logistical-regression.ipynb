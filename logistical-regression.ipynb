{
 "cells": [
  {
   "cell_type": "markdown",
   "id": "20f6f06c",
   "metadata": {},
   "source": [
    "# Logistical Regression Analysis:"
   ]
  },
  {
   "cell_type": "markdown",
   "id": "fe9414f1",
   "metadata": {},
   "source": [
    "### Covers data loading, preprocessing, exploratory data analysis, feature selection, model training, evaluation, result interpretation and prediction for a new input."
   ]
  },
  {
   "cell_type": "markdown",
   "id": "dbe68d3f",
   "metadata": {},
   "source": [
    "**Introduction**\n",
    "This project aims to predict whether it will rain tomorrow in Australia based on historical weather data using a logistic regression model."
   ]
  },
  {
   "cell_type": "markdown",
   "id": "0f99b919",
   "metadata": {},
   "source": [
    "**Dataset context**\n",
    "This dataset sourced from kaggle contains about 10 years of daily weather observations from numerous Australian weather stations.\n",
    "\n",
    "RainTomorrow is the target variable to predict. It means, did it rain the next day - Yes or No?\n",
    "This column is Yes if the rain for that day was 1mm or more.\n",
    "\n",
    "https://www.kaggle.com/datasets/jsphyg/weather-dataset-rattle-package"
   ]
  },
  {
   "cell_type": "code",
   "execution_count": null,
   "id": "d5565d75",
   "metadata": {},
   "outputs": [],
   "source": [
    "# Import necessary libraries for data analysis and modeling\n",
    "\n",
    "import pandas as pd # For data manipulation and analysis\n",
    "import numpy as np # For numerical computations\n",
    "import matplotlib.pyplot as plt # For data visualisation\n",
    "import seaborn as sns # For enhanced data visualisation\n",
    "\n",
    "from sklearn.model_selection import train_test_split  # For splitting data into training and testing sets\n",
    "from sklearn.preprocessing import StandardScaler  # For feature standardisation\n",
    "from sklearn.impute import SimpleImputer  # For handling missing values\n",
    "from sklearn.linear_model import LogisticRegression  # For logistic regression model\n",
    "from sklearn.metrics import accuracy_score, confusion_matrix, classification_report  # For model evaluation"
   ]
  }
 ],
 "metadata": {
  "language_info": {
   "name": "python"
  }
 },
 "nbformat": 4,
 "nbformat_minor": 2
}
